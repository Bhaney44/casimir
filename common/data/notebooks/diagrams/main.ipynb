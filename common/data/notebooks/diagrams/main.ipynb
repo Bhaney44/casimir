{
 "cells": [
  {
   "cell_type": "markdown",
   "metadata": {},
   "source": [
    "# Casimir Diagrams\n",
    "\n",
    "Software architecture and flow diagrams\n",
    "\n",
    "## Table of Contents\n",
    "\n",
    "* [Install Packages](#install-packages)\n",
    "* [ETL Architecture](#etl-architecture)"
   ]
  },
  {
   "cell_type": "markdown",
   "metadata": {},
   "source": [
    "## Install Packages\n",
    "\n",
    "The primary package is [diagrams](https://diagrams.mingrammer.com/), a library for drawing Graphviz diagrams with common architecture components."
   ]
  },
  {
   "cell_type": "code",
   "execution_count": 7,
   "metadata": {},
   "outputs": [],
   "source": [
    "from diagrams import Diagram, Edge, Node, Cluster\n",
    "from diagrams.aws.compute import EC2, Lambda\n",
    "from diagrams.onprem.network import Kong\n",
    "from diagrams.aws.storage import S3\n",
    "from diagrams.aws.analytics import Athena, GlueDataCatalog\n",
    "from diagrams.aws.database import Dynamodb\n",
    "from diagrams.custom import Custom"
   ]
  },
  {
   "cell_type": "markdown",
   "metadata": {},
   "source": [
    "## ETL Architecture\n",
    "\n",
    "> 🚧 This is a work in progress, consider the current diagram a placeholder with no actual impact on development."
   ]
  },
  {
   "cell_type": "code",
   "execution_count": 8,
   "metadata": {},
   "outputs": [
    {
     "ename": "FileNotFoundError",
     "evalue": "[Errno 2] No such file or directory: 'diagrams_image'",
     "output_type": "error",
     "traceback": [
      "\u001b[0;31m---------------------------------------------------------------------------\u001b[0m",
      "\u001b[0;31mFileNotFoundError\u001b[0m                         Traceback (most recent call last)",
      "\u001b[1;32m/Users/shane/Developer/CN/casimir/common/data/notebooks/diagrams/main.ipynb Cell 5\u001b[0m in \u001b[0;36m<cell line: 14>\u001b[0;34m()\u001b[0m\n\u001b[1;32m     <a href='vscode-notebook-cell:/Users/shane/Developer/CN/casimir/common/data/notebooks/diagrams/main.ipynb#W4sZmlsZQ%3D%3D?line=67'>68</a>\u001b[0m         processor \u001b[39m>>\u001b[39m \\\n\u001b[1;32m     <a href='vscode-notebook-cell:/Users/shane/Developer/CN/casimir/common/data/notebooks/diagrams/main.ipynb#W4sZmlsZQ%3D%3D?line=68'>69</a>\u001b[0m         Edge(label\u001b[39m=\u001b[39m\u001b[39m\"\u001b[39m\u001b[39mCalculate aggs from events\u001b[39m\u001b[39m\"\u001b[39m, color\u001b[39m=\u001b[39m\u001b[39m\"\u001b[39m\u001b[39mred\u001b[39m\u001b[39m\"\u001b[39m, fontname\u001b[39m=\u001b[39m\u001b[39m\"\u001b[39m\u001b[39mOpen Sauce One\u001b[39m\u001b[39m\"\u001b[39m) \u001b[39m<<\u001b[39m \\\n\u001b[1;32m     <a href='vscode-notebook-cell:/Users/shane/Developer/CN/casimir/common/data/notebooks/diagrams/main.ipynb#W4sZmlsZQ%3D%3D?line=69'>70</a>\u001b[0m         event_query\n\u001b[1;32m     <a href='vscode-notebook-cell:/Users/shane/Developer/CN/casimir/common/data/notebooks/diagrams/main.ipynb#W4sZmlsZQ%3D%3D?line=71'>72</a>\u001b[0m         aws_etl \u001b[39m=\u001b[39m [crawler, event_bucket, event_table, event_query, processor, agg_bucket, agg_table, agg_query, hydrator, app_db]\n\u001b[0;32m---> <a href='vscode-notebook-cell:/Users/shane/Developer/CN/casimir/common/data/notebooks/diagrams/main.ipynb#W4sZmlsZQ%3D%3D?line=73'>74</a>\u001b[0m     node_gateway \u001b[39m>>\u001b[39m Edge(label\u001b[39m=\u001b[39m\u001b[39m\"\u001b[39m\u001b[39mSubscribe to blocks\u001b[39m\u001b[39m\"\u001b[39m, color\u001b[39m=\u001b[39m\u001b[39m\"\u001b[39m\u001b[39mblue\u001b[39m\u001b[39m\"\u001b[39m, fontname\u001b[39m=\u001b[39m\u001b[39m\"\u001b[39m\u001b[39mOpen Sauce One\u001b[39m\u001b[39m\"\u001b[39m) \u001b[39m<<\u001b[39m crawler\n\u001b[1;32m     <a href='vscode-notebook-cell:/Users/shane/Developer/CN/casimir/common/data/notebooks/diagrams/main.ipynb#W4sZmlsZQ%3D%3D?line=75'>76</a>\u001b[0m etl\n",
      "File \u001b[0;32m~/Library/Caches/pypoetry/virtualenvs/data-qNpBeqxv-py3.8/lib/python3.8/site-packages/diagrams/__init__.py:154\u001b[0m, in \u001b[0;36mDiagram.__exit__\u001b[0;34m(self, exc_type, exc_value, traceback)\u001b[0m\n\u001b[1;32m    153\u001b[0m \u001b[39mdef\u001b[39;00m \u001b[39m__exit__\u001b[39m(\u001b[39mself\u001b[39m, exc_type, exc_value, traceback):\n\u001b[0;32m--> 154\u001b[0m     \u001b[39mself\u001b[39;49m\u001b[39m.\u001b[39;49mrender()\n\u001b[1;32m    155\u001b[0m     \u001b[39m# Remove the graphviz file leaving only the image.\u001b[39;00m\n\u001b[1;32m    156\u001b[0m     os\u001b[39m.\u001b[39mremove(\u001b[39mself\u001b[39m\u001b[39m.\u001b[39mfilename)\n",
      "File \u001b[0;32m~/Library/Caches/pypoetry/virtualenvs/data-qNpBeqxv-py3.8/lib/python3.8/site-packages/diagrams/__init__.py:188\u001b[0m, in \u001b[0;36mDiagram.render\u001b[0;34m(self)\u001b[0m\n\u001b[1;32m    186\u001b[0m         \u001b[39mself\u001b[39m\u001b[39m.\u001b[39mdot\u001b[39m.\u001b[39mrender(\u001b[39mformat\u001b[39m\u001b[39m=\u001b[39mone_format, view\u001b[39m=\u001b[39m\u001b[39mself\u001b[39m\u001b[39m.\u001b[39mshow, quiet\u001b[39m=\u001b[39m\u001b[39mTrue\u001b[39;00m)\n\u001b[1;32m    187\u001b[0m \u001b[39melse\u001b[39;00m:\n\u001b[0;32m--> 188\u001b[0m     \u001b[39mself\u001b[39;49m\u001b[39m.\u001b[39;49mdot\u001b[39m.\u001b[39;49mrender(\u001b[39mformat\u001b[39;49m\u001b[39m=\u001b[39;49m\u001b[39mself\u001b[39;49m\u001b[39m.\u001b[39;49moutformat, view\u001b[39m=\u001b[39;49m\u001b[39mself\u001b[39;49m\u001b[39m.\u001b[39;49mshow, quiet\u001b[39m=\u001b[39;49m\u001b[39mTrue\u001b[39;49;00m)\n",
      "File \u001b[0;32m~/Library/Caches/pypoetry/virtualenvs/data-qNpBeqxv-py3.8/lib/python3.8/site-packages/graphviz/_tools.py:172\u001b[0m, in \u001b[0;36mdeprecate_positional_args.<locals>.decorator.<locals>.wrapper\u001b[0;34m(*args, **kwargs)\u001b[0m\n\u001b[1;32m    163\u001b[0m     wanted \u001b[39m=\u001b[39m \u001b[39m'\u001b[39m\u001b[39m, \u001b[39m\u001b[39m'\u001b[39m\u001b[39m.\u001b[39mjoin(\u001b[39mf\u001b[39m\u001b[39m'\u001b[39m\u001b[39m{\u001b[39;00mname\u001b[39m}\u001b[39;00m\u001b[39m=\u001b[39m\u001b[39m{\u001b[39;00mvalue\u001b[39m!r}\u001b[39;00m\u001b[39m'\u001b[39m\n\u001b[1;32m    164\u001b[0m                        \u001b[39mfor\u001b[39;00m name, value \u001b[39min\u001b[39;00m deprecated\u001b[39m.\u001b[39mitems())\n\u001b[1;32m    165\u001b[0m     warnings\u001b[39m.\u001b[39mwarn(\u001b[39mf\u001b[39m\u001b[39m'\u001b[39m\u001b[39mThe signature of \u001b[39m\u001b[39m{\u001b[39;00mfunc\u001b[39m.\u001b[39m\u001b[39m__name__\u001b[39m\u001b[39m}\u001b[39;00m\u001b[39m will be reduced\u001b[39m\u001b[39m'\u001b[39m\n\u001b[1;32m    166\u001b[0m                   \u001b[39mf\u001b[39m\u001b[39m'\u001b[39m\u001b[39m to \u001b[39m\u001b[39m{\u001b[39;00msupported_number\u001b[39m}\u001b[39;00m\u001b[39m positional args\u001b[39m\u001b[39m'\u001b[39m\n\u001b[1;32m    167\u001b[0m                   \u001b[39mf\u001b[39m\u001b[39m'\u001b[39m\u001b[39m \u001b[39m\u001b[39m{\u001b[39;00m\u001b[39mlist\u001b[39m(supported)\u001b[39m}\u001b[39;00m\u001b[39m: pass \u001b[39m\u001b[39m{\u001b[39;00mwanted\u001b[39m}\u001b[39;00m\u001b[39m'\u001b[39m\n\u001b[1;32m    168\u001b[0m                   \u001b[39m'\u001b[39m\u001b[39m as keyword arg(s)\u001b[39m\u001b[39m'\u001b[39m,\n\u001b[1;32m    169\u001b[0m                   stacklevel\u001b[39m=\u001b[39mstacklevel,\n\u001b[1;32m    170\u001b[0m                   category\u001b[39m=\u001b[39mcategory)\n\u001b[0;32m--> 172\u001b[0m \u001b[39mreturn\u001b[39;00m func(\u001b[39m*\u001b[39;49margs, \u001b[39m*\u001b[39;49m\u001b[39m*\u001b[39;49mkwargs)\n",
      "File \u001b[0;32m~/Library/Caches/pypoetry/virtualenvs/data-qNpBeqxv-py3.8/lib/python3.8/site-packages/graphviz/rendering.py:115\u001b[0m, in \u001b[0;36mRender.render\u001b[0;34m(self, filename, directory, view, cleanup, format, renderer, formatter, quiet, quiet_view, outfile, engine, raise_if_result_exists, overwrite_source)\u001b[0m\n\u001b[1;32m    112\u001b[0m \u001b[39mif\u001b[39;00m outfile \u001b[39mis\u001b[39;00m \u001b[39mnot\u001b[39;00m \u001b[39mNone\u001b[39;00m \u001b[39mand\u001b[39;00m filename \u001b[39mis\u001b[39;00m \u001b[39mNone\u001b[39;00m:\n\u001b[1;32m    113\u001b[0m     filename \u001b[39m=\u001b[39m \u001b[39mself\u001b[39m\u001b[39m.\u001b[39m_get_filepath(outfile)\n\u001b[0;32m--> 115\u001b[0m filepath \u001b[39m=\u001b[39m \u001b[39mself\u001b[39;49m\u001b[39m.\u001b[39;49msave(filename, directory\u001b[39m=\u001b[39;49mdirectory, skip_existing\u001b[39m=\u001b[39;49m\u001b[39mNone\u001b[39;49;00m)\n\u001b[1;32m    117\u001b[0m args\u001b[39m.\u001b[39mappend(filepath)\n\u001b[1;32m    119\u001b[0m rendered \u001b[39m=\u001b[39m \u001b[39mself\u001b[39m\u001b[39m.\u001b[39m_render(\u001b[39m*\u001b[39margs, \u001b[39m*\u001b[39m\u001b[39m*\u001b[39mkwargs)\n",
      "File \u001b[0;32m~/Library/Caches/pypoetry/virtualenvs/data-qNpBeqxv-py3.8/lib/python3.8/site-packages/graphviz/_tools.py:172\u001b[0m, in \u001b[0;36mdeprecate_positional_args.<locals>.decorator.<locals>.wrapper\u001b[0;34m(*args, **kwargs)\u001b[0m\n\u001b[1;32m    163\u001b[0m     wanted \u001b[39m=\u001b[39m \u001b[39m'\u001b[39m\u001b[39m, \u001b[39m\u001b[39m'\u001b[39m\u001b[39m.\u001b[39mjoin(\u001b[39mf\u001b[39m\u001b[39m'\u001b[39m\u001b[39m{\u001b[39;00mname\u001b[39m}\u001b[39;00m\u001b[39m=\u001b[39m\u001b[39m{\u001b[39;00mvalue\u001b[39m!r}\u001b[39;00m\u001b[39m'\u001b[39m\n\u001b[1;32m    164\u001b[0m                        \u001b[39mfor\u001b[39;00m name, value \u001b[39min\u001b[39;00m deprecated\u001b[39m.\u001b[39mitems())\n\u001b[1;32m    165\u001b[0m     warnings\u001b[39m.\u001b[39mwarn(\u001b[39mf\u001b[39m\u001b[39m'\u001b[39m\u001b[39mThe signature of \u001b[39m\u001b[39m{\u001b[39;00mfunc\u001b[39m.\u001b[39m\u001b[39m__name__\u001b[39m\u001b[39m}\u001b[39;00m\u001b[39m will be reduced\u001b[39m\u001b[39m'\u001b[39m\n\u001b[1;32m    166\u001b[0m                   \u001b[39mf\u001b[39m\u001b[39m'\u001b[39m\u001b[39m to \u001b[39m\u001b[39m{\u001b[39;00msupported_number\u001b[39m}\u001b[39;00m\u001b[39m positional args\u001b[39m\u001b[39m'\u001b[39m\n\u001b[1;32m    167\u001b[0m                   \u001b[39mf\u001b[39m\u001b[39m'\u001b[39m\u001b[39m \u001b[39m\u001b[39m{\u001b[39;00m\u001b[39mlist\u001b[39m(supported)\u001b[39m}\u001b[39;00m\u001b[39m: pass \u001b[39m\u001b[39m{\u001b[39;00mwanted\u001b[39m}\u001b[39;00m\u001b[39m'\u001b[39m\n\u001b[1;32m    168\u001b[0m                   \u001b[39m'\u001b[39m\u001b[39m as keyword arg(s)\u001b[39m\u001b[39m'\u001b[39m,\n\u001b[1;32m    169\u001b[0m                   stacklevel\u001b[39m=\u001b[39mstacklevel,\n\u001b[1;32m    170\u001b[0m                   category\u001b[39m=\u001b[39mcategory)\n\u001b[0;32m--> 172\u001b[0m \u001b[39mreturn\u001b[39;00m func(\u001b[39m*\u001b[39;49margs, \u001b[39m*\u001b[39;49m\u001b[39m*\u001b[39;49mkwargs)\n",
      "File \u001b[0;32m~/Library/Caches/pypoetry/virtualenvs/data-qNpBeqxv-py3.8/lib/python3.8/site-packages/graphviz/saving.py:79\u001b[0m, in \u001b[0;36mSave.save\u001b[0;34m(self, filename, directory, skip_existing)\u001b[0m\n\u001b[1;32m     76\u001b[0m \u001b[39mself\u001b[39m\u001b[39m.\u001b[39m_mkdirs(filepath)\n\u001b[1;32m     78\u001b[0m log\u001b[39m.\u001b[39mdebug(\u001b[39m'\u001b[39m\u001b[39mwrite lines to \u001b[39m\u001b[39m%r\u001b[39;00m\u001b[39m'\u001b[39m, filepath)\n\u001b[0;32m---> 79\u001b[0m \u001b[39mwith\u001b[39;00m \u001b[39mopen\u001b[39;49m(filepath, \u001b[39m'\u001b[39;49m\u001b[39mw\u001b[39;49m\u001b[39m'\u001b[39;49m, encoding\u001b[39m=\u001b[39;49m\u001b[39mself\u001b[39;49m\u001b[39m.\u001b[39;49mencoding) \u001b[39mas\u001b[39;00m fd:\n\u001b[1;32m     80\u001b[0m     \u001b[39mfor\u001b[39;00m uline \u001b[39min\u001b[39;00m \u001b[39mself\u001b[39m:\n\u001b[1;32m     81\u001b[0m         fd\u001b[39m.\u001b[39mwrite(uline)\n",
      "\u001b[0;31mFileNotFoundError\u001b[0m: [Errno 2] No such file or directory: 'diagrams_image'"
     ]
    }
   ],
   "source": [
    "graph_attr = {\n",
    "    \"splines\": \"spline\",\n",
    "    \"concentrate\": \"true\"\n",
    "}\n",
    "\n",
    "edge_attr = {\n",
    "    \"fontname\": \"Open Sauce One\"\n",
    "}\n",
    "\n",
    "node_attr = {\n",
    "    \"fontname\": \"Open Sauce One\"\n",
    "}\n",
    "\n",
    "with Diagram(graph_attr=graph_attr, edge_attr=edge_attr, node_attr=node_attr, show=False, filename=\"etl\") as etl:\n",
    "\n",
    "    with Cluster(\"VMware Infrastructure\"):\n",
    "\n",
    "        with Cluster(\"Cryptonodes\"):\n",
    "            cosmos = Custom(\"Cosmos\", \"resources/cosmos.png\")\n",
    "            ethereum = Custom(\"Ethereum\", \"resources/ethereum.png\")\n",
    "            iotex = Custom(\"IoTex\", \"resources/iotex.png\")\n",
    "\n",
    "        cryptonodes = [cosmos, ethereum, iotex]\n",
    "        node_gateway = Kong(\"Node Gateway\")\n",
    "        cryptonodes >> Edge(color=\"blue\") << node_gateway\n",
    "\n",
    "    with Cluster(\"AWS ETL\"):\n",
    "        crawler = EC2(\"Crawler\")\n",
    "        processor = Lambda(\"Processor\")\n",
    "        hydrator = Lambda(\"Hydrator\")\n",
    "\n",
    "        with Cluster(\"Events\"):\n",
    "            event_bucket = S3(\"Event Bucket\")\n",
    "            event_table = GlueDataCatalog(\"Event Table\")\n",
    "            event_query = Athena(\"Event Query\")\n",
    "\n",
    "            event_bucket >> \\\n",
    "            Edge(label=\"Resolve query with events\", color=\"pink\", fontname=\"Open Sauce One\") << \\\n",
    "            event_table >> \\\n",
    "            Edge(label=\"Query event metastore\", color=\"pink\", fontname=\"Open Sauce One\") << \\\n",
    "            event_query\n",
    "\n",
    "        with Cluster(\"Aggregates\"):\n",
    "            agg_bucket = S3(\"Agg Bucket\")\n",
    "            agg_table = GlueDataCatalog(\"Agg Table\")\n",
    "            agg_query = Athena(\"Agg Query\")\n",
    "\n",
    "            agg_bucket >> \\\n",
    "            Edge(label=\"Resolve query with aggs\", color=\"pink\", fontname=\"Open Sauce One\") << \\\n",
    "            agg_table >> \\\n",
    "            Edge(label=\"Query agg metastore\", color=\"pink\", fontname=\"Open Sauce One\") << \\\n",
    "            agg_query\n",
    "\n",
    "        with Cluster(\"App\"):\n",
    "            app_db = Dynamodb(\"App DB\")\n",
    "\n",
    "        crawler >> Edge(label=\"Stream events\", color=\"blue\", fontname=\"Open Sauce One\") >> event_bucket\n",
    "        event_bucket >> \\\n",
    "        Edge(label=\"Trigger processor\", color=\"red\", fontname=\"Open Sauce One\") >> \\\n",
    "        processor >> \\\n",
    "        Edge(label=\"Stream aggs\", color=\"red\", fontname=\"Open Sauce One\") >> \\\n",
    "        agg_bucket >> \\\n",
    "        Edge(label=\"Trigger hydrator\", color=\"red\", fontname=\"Open Sauce One\") >> \\\n",
    "        hydrator >> \\\n",
    "        Edge(label=\"Stream app updates\", color=\"red\", fontname=\"Open Sauce One\") >> \\\n",
    "        app_db\n",
    "        \n",
    "        processor >> \\\n",
    "        Edge(label=\"Calculate aggs from events\", color=\"red\", fontname=\"Open Sauce One\") << \\\n",
    "        event_query\n",
    "\n",
    "        aws_etl = [crawler, event_bucket, event_table, event_query, processor, agg_bucket, agg_table, agg_query, hydrator, app_db]\n",
    "\n",
    "    node_gateway >> Edge(label=\"Subscribe to blocks\", color=\"blue\", fontname=\"Open Sauce One\") << crawler\n",
    "\n",
    "etl"
   ]
  }
 ],
 "metadata": {
  "kernelspec": {
   "display_name": "casimir-data",
   "language": "python",
   "name": "casimir-data"
  },
  "language_info": {
   "codemirror_mode": {
    "name": "ipython",
    "version": 3
   },
   "file_extension": ".py",
   "mimetype": "text/x-python",
   "name": "python",
   "nbconvert_exporter": "python",
   "pygments_lexer": "ipython3",
   "version": "3.8.9"
  },
  "orig_nbformat": 4
 },
 "nbformat": 4,
 "nbformat_minor": 2
}

{
 "cells": [
  {
   "cell_type": "markdown",
   "metadata": {},
   "source": [
    "# Casimir Schemas\n",
    "\n",
    "Documentation and explorations of the Casimir Schemas\n",
    "\n",
    "## Table of Contents\n",
    "\n",
    "* [Event Table](#-event-table)\n",
    "   * [Event JSON Schema](#-event-json-schema)\n",
    "   * [Event Glue Schema](#-event-glue-schema)\n",
    "   * [Event Explorations](#-event-explorations)\n",
    "* [Agg table](#-agg-table)\n",
    "   * [Agg JSON Schema](#-agg-json-schema)\n",
    "   * [Agg Glue Schema](#-agg-glue-schema)\n",
    "   * [Agg Explorations](#-agg-explorations)"
   ]
  },
  {
   "cell_type": "code",
   "execution_count": null,
   "metadata": {},
   "outputs": [],
   "source": []
  },
  {
   "cell_type": "markdown",
   "metadata": {},
   "source": [
    "## Event Table"
   ]
  },
  {
   "cell_type": "code",
   "execution_count": null,
   "metadata": {},
   "outputs": [],
   "source": []
  },
  {
   "cell_type": "markdown",
   "metadata": {},
   "source": [
    "## Agg Table"
   ]
  }
 ],
 "metadata": {
  "kernelspec": {
   "display_name": "Python 3.9.13 ('diagrams-1gejUS1g')",
   "language": "python",
   "name": "python3"
  },
  "language_info": {
   "name": "python",
   "version": "3.9.13"
  },
  "orig_nbformat": 4,
  "vscode": {
   "interpreter": {
    "hash": "5d4d13c165c7ffd6a1e55660fb2cf24c3500b9684df36ecf1c54f8cd26cf30ff"
   }
  }
 },
 "nbformat": 4,
 "nbformat_minor": 2
}

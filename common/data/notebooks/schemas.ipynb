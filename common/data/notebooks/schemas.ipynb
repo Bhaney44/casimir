{
 "cells": [
  {
   "cell_type": "markdown",
   "metadata": {},
   "source": [
    "# Casimir Schemas\n",
    "\n",
    "Documentation and explorations of the Casimir Schemas\n",
    "\n",
    "## Table of Contents\n",
    "\n",
    "* [Event Table](#-event-table)\n",
    "   * [Event JSON Schema](#-event-json-schema)\n",
    "   * [Event Glue Schema](#-event-glue-schema)\n",
    "   * [Event Explorations](#-event-explorations)\n",
    "* [Agg table](#-agg-table)\n",
    "   * [Agg JSON Schema](#-agg-json-schema)\n",
    "   * [Agg Glue Schema](#-agg-glue-schema)\n",
    "   * [Agg Explorations](#-agg-explorations)"
   ]
  },
  {
   "cell_type": "markdown",
   "metadata": {},
   "source": [
    "# Event Table\n",
    "\n",
    "Some description...\n",
    "\n",
    "So\n"
   ]
  },
  {
   "cell_type": "markdown",
   "metadata": {},
   "source": [
    "testing testing\n"
   ]
  },
  {
   "cell_type": "code",
   "execution_count": null,
   "metadata": {},
   "outputs": [],
   "source": [
    "# Pull \n",
    "# Pull in sample items from Athena here"
   ]
  },
  {
   "cell_type": "markdown",
   "metadata": {},
   "source": [
    "# Grant Reward Event\n",
    "\n",
    "```json\n",
    "{\n",
    "  \"type\": \"grant_reward\",\n",
    "  \"datestring\": \"2021-03-15\",\n",
    "  \"address\": \"edfe9e7cb3e006e0c0841438de6dfefcdcbfd0e1ffcf91e5bad30879cfa65b99\",\n",
    "  \"grant_type\": \"BlockReward\",\n",
    "  \"blocks_hash\": \"edfe9e7cb3e006e0c0841438de6dfefcdcbfd0e1ffcf91e5bad30879cfa65b99\",\n",
    "  \"receipt\": \"io154mvzs09vkgn0hw6gg3ayzw5w39jzp47f8py9v\",\n",
    "  \"gas_price\": 0\n",
    "}```\n",
    "\n",
    "@elizyoung0011 we need to adopt our table to handle this event."
   ]
  }
 ],
 "metadata": {
  "kernelspec": {
   "display_name": "Python 3.9.13 ('diagrams-1gejUS1g')",
   "language": "python",
   "name": "python3"
  },
  "language_info": {
   "name": "python",
   "version": "3.9.13"
  },
  "orig_nbformat": 4,
  "vscode": {
   "interpreter": {
    "hash": "5d4d13c165c7ffd6a1e55660fb2cf24c3500b9684df36ecf1c54f8cd26cf30ff"
   }
  }
 },
 "nbformat": 4,
 "nbformat_minor": 2
}

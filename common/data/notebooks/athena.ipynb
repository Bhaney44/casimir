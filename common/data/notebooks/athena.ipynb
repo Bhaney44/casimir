{
 "cells": [
  {
   "cell_type": "markdown",
   "metadata": {},
   "source": [
    "# Casimir Athena\n",
    "\n",
    "[Athena](https://boto3.amazonaws.com/v1/documentation/api/latest/reference/services/athena.html) integrated data environment and query sandbox\n",
    "\n",
    "## Table of Contents\n",
    "\n",
    "* [Install Packages](#install-packages)\n",
    "* [Configure Athena](#configure-athena)\n",
    "* [Sample Usage](#sample-usage)"
   ]
  },
  {
   "cell_type": "markdown",
   "metadata": {},
   "source": [
    "### Install Packages\n",
    "\n",
    "The primary package is pyathena, which is a Python library for querying Amazon Athena that abstracts result-retrieval, and we use it to return a pandas dataframe for easy handling and further analysis."
   ]
  },
  {
   "cell_type": "code",
   "execution_count": 220,
   "metadata": {},
   "outputs": [],
   "source": [
    "# Interact with AWS credentials and environment overrides\n",
    "import os\n",
    "from dotenv import load_dotenv\n",
    "import boto3\n",
    "import boto3.session\n",
    "\n",
    "# Query Athena\n",
    "from pyathena import connect\n",
    "\n",
    "# Handle results\n",
    "import warnings\n",
    "import pandas as pd\n",
    "from matplotlib import cm\n",
    "cmap = cm.get_cmap('Spectral')"
   ]
  },
  {
   "cell_type": "markdown",
   "metadata": {},
   "source": [
    "### Configure Athena\n",
    "\n",
    "We use the AWS credentials from your configured AWS profile (default `consensus-networks-dev`) to initialize the pyathena connection and define a DB query method."
   ]
  },
  {
   "cell_type": "code",
   "execution_count": 221,
   "metadata": {},
   "outputs": [],
   "source": [
    "load_dotenv()\n",
    "PROFILE=os.getenv('PROFILE')\n",
    "profile = PROFILE or 'consensus-networks-dev'\n",
    "session = boto3.Session(profile_name=profile)\n",
    "creds = session.get_credentials()\n",
    "\n",
    "connection = connect(\n",
    "    aws_access_key_id=creds.access_key, \n",
    "    aws_secret_access_key=creds.secret_key, \n",
    "    s3_staging_dir=\"s3://casimir-etl-output-bucket-dev/\", \n",
    "    region_name=\"us-east-2\"\n",
    ")\n",
    "\n",
    "def db_query(sql_query: str) -> pd.DataFrame:\n",
    "    \"\"\"Execute SQL Query and get pandas dataframe\"\"\"\n",
    "    with warnings.catch_warnings():\n",
    "        # Ignore warning for non-SQLAlchemy connecton\n",
    "        warnings.simplefilter('ignore', UserWarning)\n",
    "        df = pd.read_sql_query(sql_query, connection)\n",
    "    return df"
   ]
  },
  {
   "cell_type": "markdown",
   "metadata": {},
   "source": [
    "> 🚩 You can override the default profile name by setting PROFILE in your project root `.env` file. See [Environment](../../../README.md#environment) for more information."
   ]
  },
  {
   "cell_type": "markdown",
   "metadata": {},
   "source": [
    "### Sample Usage\n",
    "\n",
    "Get new stake volume per candidate for the month of August (2021) sorted by day.\n",
    "\n",
    "> 🚧 WIP – need to cleanup grouping/labels."
   ]
  },
  {
   "cell_type": "code",
   "execution_count": 242,
   "metadata": {},
   "outputs": [
    {
     "name": "stdout",
     "output_type": "stream",
     "text": [
      "            day staked_candidate     amount\n",
      "0    2021-08-01      binancevote   114685.0\n",
      "1    2021-08-01        coingecko   113301.0\n",
      "2    2021-08-01         iotexlab     5584.0\n",
      "3    2021-08-01          satoshi   113000.0\n",
      "4    2021-08-01              cpc      500.0\n",
      "..          ...              ...        ...\n",
      "460  2021-08-28          mrtrump  1421350.0\n",
      "461  2021-08-28     consensusnet  2089375.0\n",
      "462  2021-08-29        iotexteam      673.0\n",
      "463  2021-08-29      binancevote      100.0\n",
      "464  2021-08-29        emmasiotx      100.0\n",
      "\n",
      "[465 rows x 3 columns]\n"
     ]
    },
    {
     "data": {
      "text/plain": [
       "<AxesSubplot:xlabel='day', ylabel='amount'>"
      ]
     },
     "execution_count": 242,
     "metadata": {},
     "output_type": "execute_result"
    },
    {
     "data": {
      "image/png": "[encoded data removed]",
      "text/plain": [
       "<Figure size 432x288 with 1 Axes>"
      ]
     },
     "metadata": {
      "needs_background": "light"
     },
     "output_type": "display_data"
    }
   ],
   "source": [
    "query = \"\"\"\n",
    "        SELECT date_trunc('day', datestring) as day, staked_candidate, SUM(CAST(staked_amount AS decimal) / power(10, 18)) AS amount\n",
    "        FROM casimir_etl_database_dev.casimir_etl_event_table_dev\n",
    "        WHERE staked_candidate = 'consensusnet' AND type = 'create_stake' AND date_trunc('day', datestring) BETWEEN date '2021-08-01' AND date '2021-08-31'\n",
    "        GROUP BY date_trunc('day', datestring), staked_candidate\n",
    "        ORDER BY date_trunc('day', datestring)\n",
    "        \"\"\"\n",
    "        \n",
    "dataframe = db_query(query)\n",
    "print(dataframe)\n",
    "dataframe.plot(kind='scatter', x='day', y='amount', cmap=cmap)"
   ]
  }
 ],
 "metadata": {
  "kernelspec": {
   "display_name": "casimir-data",
   "language": "python",
   "name": "casimir-data"
  },
  "language_info": {
   "codemirror_mode": {
    "name": "ipython",
    "version": 3
   },
   "file_extension": ".py",
   "mimetype": "text/x-python",
   "name": "python",
   "nbconvert_exporter": "python",
   "pygments_lexer": "ipython3",
   "version": "3.8.9"
  },
  "orig_nbformat": 4,
  "vscode": {
   "interpreter": {
    "hash": "5d4d13c165c7ffd6a1e55660fb2cf24c3500b9684df36ecf1c54f8cd26cf30ff"
   }
  }
 },
 "nbformat": 4,
 "nbformat_minor": 2
}

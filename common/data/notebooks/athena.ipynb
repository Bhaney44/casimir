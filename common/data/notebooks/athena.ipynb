{
 "cells": [
  {
   "cell_type": "markdown",
   "metadata": {},
   "source": [
    "# Casimir Athena\n",
    "\n",
    "Sandbox for playing with Casimir data in [AWS Athena](https://boto3.amazonaws.com/v1/documentation/api/latest/reference/services/athena.html)"
   ]
  },
  {
   "cell_type": "markdown",
   "metadata": {},
   "source": [
    "Configure AWS credentials and get last 10 events from Athena"
   ]
  },
  {
   "cell_type": "code",
   "execution_count": 7,
   "metadata": {},
   "outputs": [
    {
     "name": "stdout",
     "output_type": "stream",
     "text": [
      "('create_stake', datetime.date(2021, 8, 29), '04776260f30db5e44a1072f3904a6377d2278459e6b55caa815b95bc588c566cc71a0f12007b1f08adc09239ecb7c2683e9c8d9dff85745f873d970af1eef11510', 'iotexteam', '673000000000000000000', 91, False)\n",
      "('create_stake', datetime.date(2021, 8, 29), '049b59c1f0347af0da32c76b749effebadb2d4bcde32b71d1f0bd49da1453b001b4ff5cebc56cf8e984a6ba1bb544fca6813f562a7077e9c83ae34394633509a93', 'binancevote', '100000000000000000000', 35, False)\n",
      "('create_stake', datetime.date(2021, 8, 29), '047d90d205b8d23271c2f9ee1bffa88ec76e6b981adeace49b647db685734273773965af4f3b539cb3c2fada7a8799117b2776bdfb54c6ce05884af8ce88e50054', 'emmasiotx', '100000000000000000000', 100, True)\n",
      "('create_stake', datetime.date(2021, 8, 28), '0439f264a2f9692d813bdb600816508542019c176537ac06791d74fb5ea8bdf04933c5ae22254f3bd9e7042aee03eb9aa6498a8c8e766bd65e0f40d65b42e14e42', 'iotfi', '900000000000000000000', 14, False)\n",
      "('create_stake', datetime.date(2021, 8, 28), '04f1d1d299a713586e60ac48792729806b41a381e7e5758c4ee1596c119942e2f0b233e3427c448f19714be631adc2558befac3862b576c382add829220defa594', 'coredev', '2895480000000000000000000', 0, False)\n",
      "('create_stake', datetime.date(2021, 8, 28), '047f69a0ca64489fb138fa30c052da2c24dbfee43ffaa62a96a07f8e50813b9a5ef52124e9f7e7eca0a4e677640b208cf36d1a70c9348f42f166b0b44ed091ca09', 'consensusnet', '495000000000000000000', 92, True)\n",
      "('create_stake', datetime.date(2021, 8, 28), '046723c62236afd139799ee4175f2827e0d07501e3d5ce27e33cda0b7735e30a01c4309f21c871be1fee3cab50ed57092e7a72e142d209a5d1e41c9065f0845947', 'mrtrump', '1421350000000000000000000', 0, False)\n",
      "('create_stake', datetime.date(2021, 8, 28), '0484f06cab384e2ed5dcfa3624ae06279a44e91ba8f537702cbce5332a1971e19deb35f30326277e7e73637491dcb27b567b0abeee9fd283c0453928be5c639d1e', 'consensusnet', '2086130000000000000000000', 0, False)\n",
      "('create_stake', datetime.date(2021, 8, 28), '04d3779a858592192c24a1ad2a79e45c9795ca9f67fd40fb4aea2c06a559b41e1cd98d96bb8df62a6fcdb096e38eae4988fcae390727c8d3a5d170e829d7ff61ce', 'unifi', '4150882000000000000000000', 0, False)\n",
      "('create_stake', datetime.date(2021, 8, 28), '047f69a0ca64489fb138fa30c052da2c24dbfee43ffaa62a96a07f8e50813b9a5ef52124e9f7e7eca0a4e677640b208cf36d1a70c9348f42f166b0b44ed091ca09', 'pubxpayments', '250000000000000000000', 92, True)\n"
     ]
    }
   ],
   "source": [
    "import os\n",
    "from pyathena import connect\n",
    "import boto3\n",
    "import boto3.session\n",
    "\n",
    "session = boto3.Session(profile_name='consensus-networks-dev')\n",
    "creds = session.get_credentials()\n",
    "\n",
    "cursor = connect(\n",
    "    aws_access_key_id=creds.access_key, \n",
    "    aws_secret_access_key=creds.secret_key, \n",
    "    s3_staging_dir=\"s3://casimir-etl-output-bucket-dev/\", \n",
    "    region_name=\"us-east-2\"\n",
    ").cursor()\n",
    "\n",
    "cursor.execute(\"SELECT * FROM casimir_etl_database_dev.casimir_etl_event_table_dev LIMIT 10\")\n",
    "\n",
    "for row in cursor:\n",
    "    print(row)"
   ]
  }
 ],
 "metadata": {
  "kernelspec": {
   "display_name": "casimir-data",
   "language": "python",
   "name": "casimir-data"
  },
  "language_info": {
   "codemirror_mode": {
    "name": "ipython",
    "version": 3
   },
   "file_extension": ".py",
   "mimetype": "text/x-python",
   "name": "python",
   "nbconvert_exporter": "python",
   "pygments_lexer": "ipython3",
   "version": "3.8.9"
  },
  "orig_nbformat": 4,
  "vscode": {
   "interpreter": {
    "hash": "5d4d13c165c7ffd6a1e55660fb2cf24c3500b9684df36ecf1c54f8cd26cf30ff"
   }
  }
 },
 "nbformat": 4,
 "nbformat_minor": 2
}

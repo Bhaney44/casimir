{
 "cells": [
  {
   "cell_type": "markdown",
   "metadata": {},
   "source": [
    "# Casimir Athena\n",
    "\n",
    "[Athena](https://boto3.amazonaws.com/v1/documentation/api/latest/reference/services/athena.html) integrated data environment and query sandbox\n",
    "\n",
    "## Table of Contents\n",
    "\n",
    "* [Install Packages](#install-packages)\n",
    "* [Configure Athena](#configure-athena)\n",
    "* [Sample Usage](#sample-usage)"
   ]
  },
  {
   "cell_type": "markdown",
   "metadata": {},
   "source": [
    "### Install Packages\n",
    "\n",
    "The primary package is pyathena, which is a Python library for querying Amazon Athena that abstracts result-retrieval, and we use it to return a pandas dataframe for easy handling and further analysis."
   ]
  },
  {
   "cell_type": "code",
   "execution_count": 280,
   "metadata": {},
   "outputs": [
    {
     "ename": "ImportError",
     "evalue": "cannot import name 'plt' from 'matplotlib' (/Users/shane/Library/Caches/pypoetry/virtualenvs/data-qNpBeqxv-py3.8/lib/python3.8/site-packages/matplotlib/__init__.py)",
     "output_type": "error",
     "traceback": [
      "\u001b[0;31m---------------------------------------------------------------------------\u001b[0m",
      "\u001b[0;31mImportError\u001b[0m                               Traceback (most recent call last)",
      "\u001b[1;32m/Users/shane/Developer/Consensus Networks/casimir/common/data/notebooks/athena.ipynb Cell 3\u001b[0m in \u001b[0;36m<cell line: 13>\u001b[0;34m()\u001b[0m\n\u001b[1;32m     <a href='vscode-notebook-cell:/Users/shane/Developer/Consensus%20Networks/casimir/common/data/notebooks/athena.ipynb#ch0000008?line=10'>11</a>\u001b[0m \u001b[39mimport\u001b[39;00m \u001b[39mwarnings\u001b[39;00m\n\u001b[1;32m     <a href='vscode-notebook-cell:/Users/shane/Developer/Consensus%20Networks/casimir/common/data/notebooks/athena.ipynb#ch0000008?line=11'>12</a>\u001b[0m \u001b[39mimport\u001b[39;00m \u001b[39mpandas\u001b[39;00m \u001b[39mas\u001b[39;00m \u001b[39mpd\u001b[39;00m\n\u001b[0;32m---> <a href='vscode-notebook-cell:/Users/shane/Developer/Consensus%20Networks/casimir/common/data/notebooks/athena.ipynb#ch0000008?line=12'>13</a>\u001b[0m \u001b[39mfrom\u001b[39;00m \u001b[39mmatplotlib\u001b[39;00m \u001b[39mimport\u001b[39;00m plt\n\u001b[1;32m     <a href='vscode-notebook-cell:/Users/shane/Developer/Consensus%20Networks/casimir/common/data/notebooks/athena.ipynb#ch0000008?line=13'>14</a>\u001b[0m \u001b[39mfrom\u001b[39;00m \u001b[39mmatplotlib\u001b[39;00m\u001b[39m.\u001b[39;00m\u001b[39mdates\u001b[39;00m \u001b[39mimport\u001b[39;00m DateFormatter\n",
      "\u001b[0;31mImportError\u001b[0m: cannot import name 'plt' from 'matplotlib' (/Users/shane/Library/Caches/pypoetry/virtualenvs/data-qNpBeqxv-py3.8/lib/python3.8/site-packages/matplotlib/__init__.py)"
     ]
    }
   ],
   "source": [
    "# Interact with AWS credentials and environment overrides\n",
    "import os\n",
    "from dotenv import load_dotenv\n",
    "import boto3\n",
    "import boto3.session\n",
    "\n",
    "# Query Athena\n",
    "from pyathena import connect\n",
    "\n",
    "# Handle results\n",
    "import warnings\n",
    "import pandas as pd\n",
    "from matplotlib import plt\n",
    "from matplotlib.dates import DateFormatter"
   ]
  },
  {
   "cell_type": "markdown",
   "metadata": {},
   "source": [
    "### Configure Athena\n",
    "\n",
    "We use the AWS credentials from your configured AWS profile (default `consensus-networks-dev`) to initialize the pyathena connection and define a DB query method."
   ]
  },
  {
   "cell_type": "code",
   "execution_count": null,
   "metadata": {},
   "outputs": [],
   "source": [
    "load_dotenv()\n",
    "PROFILE=os.getenv('PROFILE')\n",
    "profile = PROFILE or 'consensus-networks-dev'\n",
    "session = boto3.Session(profile_name=profile)\n",
    "creds = session.get_credentials()\n",
    "\n",
    "connection = connect(\n",
    "    aws_access_key_id=creds.access_key, \n",
    "    aws_secret_access_key=creds.secret_key, \n",
    "    s3_staging_dir=\"s3://casimir-etl-output-bucket-dev/\", \n",
    "    region_name=\"us-east-2\"\n",
    ")\n",
    "\n",
    "def db_query(sql_query: str) -> pd.DataFrame:\n",
    "    \"\"\"Execute SQL Query and get pandas dataframe\"\"\"\n",
    "    with warnings.catch_warnings():\n",
    "        # Ignore warning for non-SQLAlchemy connecton\n",
    "        warnings.simplefilter('ignore', UserWarning)\n",
    "        df = pd.read_sql_query(sql_query, connection)\n",
    "    return df"
   ]
  },
  {
   "cell_type": "markdown",
   "metadata": {},
   "source": [
    "> 🚩 You can override the default profile name by setting PROFILE in your project root `.env` file. See [Environment](../../../README.md#environment) for more information."
   ]
  },
  {
   "cell_type": "markdown",
   "metadata": {},
   "source": [
    "### Sample Usage: Stake Volume\n",
    "\n",
    "Get daily new stake volume of a given candidate for the month of August in 2021."
   ]
  },
  {
   "cell_type": "code",
   "execution_count": null,
   "metadata": {},
   "outputs": [
    {
     "name": "stdout",
     "output_type": "stream",
     "text": [
      "           Day  Candidate     Amount\n",
      "0   2021-08-01  coingecko  113301.00\n",
      "1   2021-08-11  coingecko    1300.00\n",
      "2   2021-08-13  coingecko    1408.00\n",
      "3   2021-08-14  coingecko    5000.00\n",
      "4   2021-08-15  coingecko  500000.00\n",
      "5   2021-08-17  coingecko    2268.00\n",
      "6   2021-08-18  coingecko    6052.00\n",
      "7   2021-08-19  coingecko     100.00\n",
      "8   2021-08-20  coingecko     200.00\n",
      "9   2021-08-22  coingecko   22229.00\n",
      "10  2021-08-23  coingecko   38682.87\n",
      "11  2021-08-25  coingecko    9903.00\n",
      "12  2021-08-26  coingecko     200.00\n",
      "13  2021-08-27  coingecko    5113.00\n",
      "14  2021-08-28  coingecko     180.00\n"
     ]
    },
    {
     "data": {
      "image/png": "[encoded data removed]",
      "text/plain": [
       "<Figure size 432x288 with 1 Axes>"
      ]
     },
     "metadata": {
      "needs_background": "light"
     },
     "output_type": "display_data"
    }
   ],
   "source": [
    "query = \"\"\"\n",
    "        SELECT \n",
    "                date_trunc('day', datestring) as Day, \n",
    "                staked_candidate as Candidate,\n",
    "                SUM(CAST(staked_amount AS double) / power(10, 18)) AS Amount\n",
    "        FROM \n",
    "                casimir_etl_database_dev.casimir_etl_event_table_dev\n",
    "        WHERE \n",
    "                staked_candidate = 'coingecko' \n",
    "        AND \n",
    "                type = 'create_stake' \n",
    "        AND \n",
    "                date_trunc('day', datestring) BETWEEN date '2021-08-01' AND date '2021-08-31'\n",
    "        GROUP BY \n",
    "                date_trunc('day', datestring), \n",
    "                staked_candidate\n",
    "        ORDER BY \n",
    "                date_trunc('day', datestring)\n",
    "        \"\"\"\n",
    "        \n",
    "dataframe = db_query(query)\n",
    "print(dataframe)\n",
    "ax=dataframe.plot.scatter(title='Stake Volume August 2021', x='Day', y='Amount', colormap='viridis', legend=True)\n",
    "date_form = DateFormatter(\"%d\")\n",
    "ax.xaxis.set_major_formatter(date_form)\n",
    "ax.yaxis.set_major_formatter(plt.FuncFormatter(lambda x, p: format(int(x), ',')))"
   ]
  }
 ],
 "metadata": {
  "kernelspec": {
   "display_name": "casimir-data",
   "language": "python",
   "name": "casimir-data"
  },
  "language_info": {
   "codemirror_mode": {
    "name": "ipython",
    "version": 3
   },
   "file_extension": ".py",
   "mimetype": "text/x-python",
   "name": "python",
   "nbconvert_exporter": "python",
   "pygments_lexer": "ipython3",
   "version": "3.8.9"
  },
  "orig_nbformat": 4,
  "vscode": {
   "interpreter": {
    "hash": "5d4d13c165c7ffd6a1e55660fb2cf24c3500b9684df36ecf1c54f8cd26cf30ff"
   }
  }
 },
 "nbformat": 4,
 "nbformat_minor": 2
}

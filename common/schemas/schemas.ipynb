{
 "cells": [
  {
   "cell_type": "markdown",
   "metadata": {},
   "source": [
    "# Casimir Schema Introspection\n",
    "\n",
    "## Table of Contents\n",
    "\n",
    "[Event table](#-event-table)\n",
    "   [Event JSON schema](#-event-json-schema)\n",
    "   [Event Glue schema](#-event-glue-schema)\n",
    "   [Event Explorations](#-event-explorations)\n",
    "[Agg table](#-agg-table)\n",
    "   [Agg JSON schema](#-agg-json-schema)\n",
    "   [Agg Glue schema](#-agg-glue-schema)\n",
    "   [Agg Explorations](#-agg-explorations)"
   ]
  }
 ],
 "metadata": {
  "language_info": {
   "name": "python"
  },
  "orig_nbformat": 4
 },
 "nbformat": 4,
 "nbformat_minor": 2
}
